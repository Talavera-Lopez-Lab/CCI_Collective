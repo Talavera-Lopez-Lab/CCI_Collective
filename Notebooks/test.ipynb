{
 "cells": [
  {
   "cell_type": "code",
   "execution_count": 1,
   "metadata": {},
   "outputs": [],
   "source": [
    "import CCI_Collective.cci_collective as cc \n",
    "from CCI_Collective.utils.matrix_operations import *\n",
    "import numpy as np\n",
    "import pandas as pd\n",
    "from scanpy import read_h5ad"
   ]
  },
  {
   "cell_type": "code",
   "execution_count": 2,
   "metadata": {},
   "outputs": [
    {
     "data": {
      "text/plain": [
       "AnnData object with n_obs × n_vars = 97573 × 27208\n",
       "    obs: 'sex', 'age', 'ethnicity', 'PaCO2', 'donor', 'infection', 'disease', 'SMK', 'illumina_stimunr', 'bd_rhapsody', 'n_genes', 'doublet_scores', 'predicted_doublets', 'batch', 'n_genes_by_counts', 'total_counts', 'total_counts_mt', 'pct_counts_mt', 'total_counts_ribo', 'pct_counts_ribo', 'percent_mt2', 'n_counts', 'percent_chrY', 'XIST-counts', 'S_score', 'G2M_score', 'condition', 'sample_group', 'IAV_score', 'group', 'Viral_score', 'cell_type', 'cell_states', 'leiden', 'cell_compartment', 'seed_labels', '_scvi_batch', '_scvi_labels', 'C_scANVI'\n",
       "    var: 'mt', 'ribo'\n",
       "    obsm: 'X_scANVI', 'X_scVI', 'X_umap'"
      ]
     },
     "execution_count": 2,
     "metadata": {},
     "output_type": "execute_result"
    }
   ],
   "source": [
    "adata = read_h5ad('../.data/Marburg_cell_states_locked_scANVI_ctl230901.raw.h5ad')\n",
    "adata"
   ]
  },
  {
   "cell_type": "code",
   "execution_count": 3,
   "metadata": {},
   "outputs": [
    {
     "data": {
      "text/plain": [
       "AnnData object with n_obs × n_vars = 97573 × 27208\n",
       "    obs: 'sex', 'age', 'ethnicity', 'PaCO2', 'donor', 'infection', 'disease', 'SMK', 'illumina_stimunr', 'bd_rhapsody', 'n_genes', 'doublet_scores', 'predicted_doublets', 'batch', 'n_genes_by_counts', 'total_counts', 'total_counts_mt', 'pct_counts_mt', 'total_counts_ribo', 'pct_counts_ribo', 'percent_mt2', 'n_counts', 'percent_chrY', 'XIST-counts', 'S_score', 'G2M_score', 'condition', 'sample_group', 'IAV_score', 'group', 'Viral_score', 'cell_type', 'cell_states', 'leiden', 'cell_compartment', 'seed_labels', '_scvi_batch', '_scvi_labels', 'C_scANVI'\n",
       "    var: 'mt', 'ribo'\n",
       "    obsm: 'X_scANVI', 'X_scVI', 'X_umap'"
      ]
     },
     "execution_count": 3,
     "metadata": {},
     "output_type": "execute_result"
    }
   ],
   "source": [
    "test = cc.cci_collective(adata)\n",
    "test.adata"
   ]
  },
  {
   "cell_type": "code",
   "execution_count": 4,
   "metadata": {},
   "outputs": [
    {
     "name": "stderr",
     "output_type": "stream",
     "text": [
      "  1%|          | 589/97573 [03:27<9:28:31,  2.84it/s] \n"
     ]
    },
    {
     "ename": "KeyboardInterrupt",
     "evalue": "",
     "output_type": "error",
     "traceback": [
      "\u001b[0;31m---------------------------------------------------------------------------\u001b[0m",
      "\u001b[0;31mKeyboardInterrupt\u001b[0m                         Traceback (most recent call last)",
      "\u001b[1;32m/mnt/LaCIE/ceger/Projects/CCI_Collective/Notebooks/test.ipynb Cell 4\u001b[0m line \u001b[0;36m1\n\u001b[0;32m----> <a href='vscode-notebook-cell://ssh-remote%2B132.187.167.21/mnt/LaCIE/ceger/Projects/CCI_Collective/Notebooks/test.ipynb#X42sdnNjb2RlLXJlbW90ZQ%3D%3D?line=0'>1</a>\u001b[0m test\u001b[39m.\u001b[39;49mbuild_features(\u001b[39m'\u001b[39;49m\u001b[39mcell_states\u001b[39;49m\u001b[39m'\u001b[39;49m)\n",
      "File \u001b[0;32m/mnt/LaCIE/ceger/Projects/CCI_Collective/CCI_Collective/cci_collective.py:83\u001b[0m, in \u001b[0;36mcci_collective.build_features\u001b[0;34m(self, obs_column)\u001b[0m\n\u001b[1;32m     81\u001b[0m \u001b[39mfor\u001b[39;00m cluster \u001b[39min\u001b[39;00m clusters:\n\u001b[1;32m     82\u001b[0m     cluster_exp_array \u001b[39m=\u001b[39m cluster_exp_dict[cluster]\n\u001b[0;32m---> 83\u001b[0m     outer_product \u001b[39m=\u001b[39m np\u001b[39m.\u001b[39;49mouter(cell_exp_array, cluster_exp_array\u001b[39m.\u001b[39;49mflatten())\n\u001b[1;32m     84\u001b[0m     filtered_outer_product \u001b[39m=\u001b[39m outer_product \u001b[39m*\u001b[39m \u001b[39mself\u001b[39m\u001b[39m.\u001b[39mbinary_interaction_matrix\u001b[39m.\u001b[39mvalues\n\u001b[1;32m     85\u001b[0m     feature_value \u001b[39m=\u001b[39m filtered_outer_product\u001b[39m.\u001b[39msum()\n",
      "File \u001b[0;32m~/miniforge3/envs/CCI_Collective_cci_feature_extraction/lib/python3.10/site-packages/numpy/core/numeric.py:925\u001b[0m, in \u001b[0;36mouter\u001b[0;34m(a, b, out)\u001b[0m\n\u001b[1;32m    923\u001b[0m a \u001b[39m=\u001b[39m asarray(a)\n\u001b[1;32m    924\u001b[0m b \u001b[39m=\u001b[39m asarray(b)\n\u001b[0;32m--> 925\u001b[0m \u001b[39mreturn\u001b[39;00m multiply(a\u001b[39m.\u001b[39;49mravel()[:, newaxis], b\u001b[39m.\u001b[39;49mravel()[newaxis, :], out)\n",
      "\u001b[0;31mKeyboardInterrupt\u001b[0m: "
     ]
    }
   ],
   "source": [
    "test.build_features('cell_states')\n"
   ]
  }
 ],
 "metadata": {
  "kernelspec": {
   "display_name": "CCI_Collective-env",
   "language": "python",
   "name": "python3"
  },
  "language_info": {
   "codemirror_mode": {
    "name": "ipython",
    "version": 3
   },
   "file_extension": ".py",
   "mimetype": "text/x-python",
   "name": "python",
   "nbconvert_exporter": "python",
   "pygments_lexer": "ipython3",
   "version": "3.10.14"
  }
 },
 "nbformat": 4,
 "nbformat_minor": 2
}
